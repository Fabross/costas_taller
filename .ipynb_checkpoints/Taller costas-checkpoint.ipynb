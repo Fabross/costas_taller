{
 "cells": [
  {
   "cell_type": "markdown",
   "metadata": {},
   "source": [
    "# Taller Costas\n",
    "\n",
    "Instalar paquete Costas mediante:\n",
    "\n",
    "` pip install -i https://test.pypi.org/simple/ costas `\n",
    "\n",
    "[Documentación disponible](https://fabross.github.io/Costas)\n",
    "\n",
    "Puede encontrar más información acerca de los datos en [la página oficial del All Sky Automated Survey (ASAS)](http://www.astrouw.edu.pl/asas/?page=main)\n",
    "\n",
    "## 1.- Adquisición de datos\n",
    "Pruebe la función `parser` del modulo `acquisition` del paquete que acaba de instalar, si tiene dudas de como usar algo pruebe `<nombre_de_funcion>?`, ej. `parser?`"
   ]
  },
  {
   "cell_type": "code",
   "execution_count": null,
   "metadata": {
    "scrolled": true
   },
   "outputs": [],
   "source": []
  },
  {
   "cell_type": "markdown",
   "metadata": {},
   "source": [
    "Qué representan las diferentes columnas HJD, MAG_X, MER_X, GRADE, FRAME, RA y DEC?\n",
    "\n",
    "Grafique la curva de luz"
   ]
  },
  {
   "cell_type": "code",
   "execution_count": null,
   "metadata": {},
   "outputs": [],
   "source": []
  },
  {
   "cell_type": "markdown",
   "metadata": {},
   "source": [
    "Utilice la función de filtro `grade_filter` del módulo `filter`, dejando solo las mejores mediciones."
   ]
  },
  {
   "cell_type": "code",
   "execution_count": null,
   "metadata": {},
   "outputs": [],
   "source": []
  },
  {
   "cell_type": "markdown",
   "metadata": {},
   "source": [
    "Grafique la curva de luz, existe alguna diferencia?"
   ]
  },
  {
   "cell_type": "code",
   "execution_count": null,
   "metadata": {},
   "outputs": [],
   "source": []
  },
  {
   "cell_type": "markdown",
   "metadata": {},
   "source": [
    "## 2.- Preprocesamiento\n",
    "Pruebe las funciones `high_photometric_errors` y `outliers_iqr` (en ese orden) del modulo `preprocessing`, qué cree que hacen?"
   ]
  },
  {
   "cell_type": "code",
   "execution_count": null,
   "metadata": {},
   "outputs": [],
   "source": []
  },
  {
   "cell_type": "markdown",
   "metadata": {},
   "source": [
    "Ahora pruebe la función `preprocessing`, obtiene el mismo resultado que aplicando las funciones anteriores?"
   ]
  },
  {
   "cell_type": "code",
   "execution_count": null,
   "metadata": {},
   "outputs": [],
   "source": []
  },
  {
   "cell_type": "markdown",
   "metadata": {},
   "source": [
    "Grafique la curva de luz, existe alguna diferencia?"
   ]
  },
  {
   "cell_type": "code",
   "execution_count": null,
   "metadata": {},
   "outputs": [],
   "source": []
  },
  {
   "cell_type": "markdown",
   "metadata": {},
   "source": [
    "## 3.- Extracción de características\n",
    "Pruebe las funciones `get_statistics` y `get_ra_dec` (en ese orden) del módulo fextraction, qué cree que hacen?"
   ]
  },
  {
   "cell_type": "code",
   "execution_count": null,
   "metadata": {},
   "outputs": [],
   "source": []
  },
  {
   "cell_type": "markdown",
   "metadata": {},
   "source": [
    "## 4.- Filtrado final\n",
    "Este último paso por filtros dejará afuera de resultado la estrella si es de tipo **variable de corto periodo**. Aplique las funciones `stars_Cfilter` y `stars_Qfilter`."
   ]
  },
  {
   "cell_type": "code",
   "execution_count": null,
   "metadata": {},
   "outputs": [],
   "source": []
  }
 ],
 "metadata": {
  "kernelspec": {
   "display_name": "costas",
   "language": "python",
   "name": "costas"
  },
  "language_info": {
   "codemirror_mode": {
    "name": "ipython",
    "version": 3
   },
   "file_extension": ".py",
   "mimetype": "text/x-python",
   "name": "python",
   "nbconvert_exporter": "python",
   "pygments_lexer": "ipython3",
   "version": "3.7.4"
  }
 },
 "nbformat": 4,
 "nbformat_minor": 2
}
